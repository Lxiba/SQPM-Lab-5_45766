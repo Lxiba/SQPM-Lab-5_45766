{
  "cells": [
    {
      "cell_type": "markdown",
      "metadata": {
        "id": "S0KvgYslI64f"
      },
      "source": [
        "# Great Expectations Task"
      ]
    },
    {
      "cell_type": "markdown",
      "metadata": {
        "id": "9R147FfXJG4F"
      },
      "source": [
        "## 1. Install Great Expectations Library\n"
      ]
    },
    {
      "cell_type": "code",
      "execution_count": null,
      "metadata": {
        "collapsed": true,
        "id": "TGqDcWNh3Y_-"
      },
      "outputs": [],
      "source": [
        "%pip install great_expectations"
      ]
    },
    {
      "cell_type": "markdown",
      "metadata": {},
      "source": []
    },
    {
      "cell_type": "markdown",
      "metadata": {
        "id": "fWSO9h40JZjg"
      },
      "source": [
        "##2. Import Necessary Libraries"
      ]
    },
    {
      "cell_type": "code",
      "execution_count": null,
      "metadata": {
        "collapsed": true,
        "id": "77qWdq8yVVEl"
      },
      "outputs": [],
      "source": [
        "import pandas as pd\n",
        "import great_expectations as gx"
      ]
    },
    {
      "cell_type": "markdown",
      "metadata": {
        "id": "Fdt5KucDJu-h"
      },
      "source": [
        "##3. Load Labels.csv"
      ]
    },
    {
      "cell_type": "markdown",
      "metadata": {
        "id": "pP3MW4uUhwAR"
      },
      "source": [
        "Download and upload the [Labels.csv](https://github.com/zubxxr/SOFE3980U-Lab5/blob/main/Labels.csv) into this notebook, and then load the file."
      ]
    },
    {
      "cell_type": "code",
      "execution_count": null,
      "metadata": {
        "id": "ogHUyzFKdS5z"
      },
      "outputs": [],
      "source": [
        "df = pd.read_csv(\"Labels.csv\")"
      ]
    },
    {
      "cell_type": "markdown",
      "metadata": {
        "id": "2BCIXXwdJyS7"
      },
      "source": [
        "##4. Preview the Dataset"
      ]
    },
    {
      "cell_type": "code",
      "execution_count": null,
      "metadata": {
        "id": "OXpbbmRsVj0k"
      },
      "outputs": [],
      "source": [
        "df.head()"
      ]
    },
    {
      "cell_type": "markdown",
      "metadata": {
        "id": "WwljyFlFJ1A8"
      },
      "source": [
        "##5. Set Up Great Expectations Context and Data Source"
      ]
    },
    {
      "cell_type": "code",
      "execution_count": null,
      "metadata": {
        "id": "SxSmTGmZVk5U"
      },
      "outputs": [],
      "source": [
        "context = gx.get_context()\n",
        "datasource = context.sources.add_pandas(name=\"labels_data\", dataframe=df)\n",
        "\n",
        "data_asset = datasource.add_dataframe_asset(name=\"labels_dataframe\")"
      ]
    },
    {
      "cell_type": "markdown",
      "metadata": {
        "id": "IHl4W07zJ5-A"
      },
      "source": [
        "##6. Define and Create a Data Batch"
      ]
    },
    {
      "cell_type": "code",
      "execution_count": null,
      "metadata": {
        "id": "dTdpe1tVhpgp"
      },
      "outputs": [],
      "source": [
        "batch_request = data_asset.build_batch_request()\n",
        "batch = context.get_batch(batch_request)"
      ]
    },
    {
      "cell_type": "markdown",
      "metadata": {
        "id": "JhVlKGYXJ8Tf"
      },
      "source": [
        "##7. Define Three Expectations for Column Values"
      ]
    },
    {
      "cell_type": "markdown",
      "metadata": {
        "id": "8ixvqF3OYnlt"
      },
      "source": [
        "Using this [link](https://greatexpectations.io/expectations/), choose three expectation functions and apply them to the labels dataset in a relevant manner.\n",
        "\n",
        "You should replace the 'ExpectColumnValuesToBeBetween' function with other functions you select from the link.\n",
        "\n",
        "You can also check the format/parameters required of each function when you click \"See more\" on the function."
      ]
    },
    {
      "cell_type": "code",
      "execution_count": null,
      "metadata": {
        "id": "O2JMz9pScU6n"
      },
      "outputs": [],
      "source": [
        "## Original Function\n",
        "expectation = gx.expectations.ExpectColumnValuesToBeBetween(\n",
        "    column=\"column\", min_value=0, max_value=20\n",
        ")\n",
        "\n",
        "## Example Function\n",
        "\n",
        "## This function only requires a column parameter, and not a max or min value\n",
        "expectation = gx.expectations.ExpectColumnValuesToBeUnique(\n",
        "    column=\"column\"\n",
        ")"
      ]
    },
    {
      "cell_type": "markdown",
      "metadata": {
        "id": "gaIvn5Y-Mazw"
      },
      "source": [
        "### Expectation 1"
      ]
    },
    {
      "cell_type": "code",
      "execution_count": null,
      "metadata": {
        "id": "PJw-qrNyhsIX"
      },
      "outputs": [],
      "source": [
        "# Expectation 1: Ensuring distinct values in Car1_Location_Y\n",
        "expectation_1 = gx.expectations.ExpectColumnDistinctValuesToEqualSet(\n",
        "    column=\"Car1_Location_Y\", value_set={143}\n",
        ")"
      ]
    },
    {
      "cell_type": "markdown",
      "metadata": {
        "id": "iaWGD8GL8jSA"
      },
      "source": [
        "### Validate Data Against Expectation 1"
      ]
    },
    {
      "cell_type": "code",
      "execution_count": null,
      "metadata": {
        "id": "zE_iE0yr8k9y"
      },
      "outputs": [],
      "source": [
        "validation_1 = batch.validate(expectation_1)\n",
        "print(validation_1)"
      ]
    },
    {
      "cell_type": "markdown",
      "metadata": {
        "id": "37TjcPpxYiMZ"
      },
      "source": [
        "### Expectation 2"
      ]
    },
    {
      "cell_type": "code",
      "execution_count": null,
      "metadata": {
        "id": "duJPbIxoYfNc"
      },
      "outputs": [],
      "source": [
        "# Expectation 2: Ensuring the maximum value of Car2_Location_X falls within an expected range\n",
        "expectation_2 = gx.expectations.ExpectColumnMaxToBeBetween(\n",
        "    column=\"Car2_Location_X\", min_value=-60, max_value=-50\n",
        ")"
      ]
    },
    {
      "cell_type": "markdown",
      "metadata": {
        "id": "rCO1JE2O8lcf"
      },
      "source": [
        "### Validate Data Against Expectation 2"
      ]
    },
    {
      "cell_type": "code",
      "execution_count": null,
      "metadata": {
        "id": "0HbLTxQJ8rXp"
      },
      "outputs": [],
      "source": [
        "validation_2 = batch.validate(expectation_2)\n",
        "print(validation_2)"
      ]
    },
    {
      "cell_type": "markdown",
      "metadata": {
        "id": "JEJ28eyoYfra"
      },
      "source": [
        "### Expectation 3"
      ]
    },
    {
      "cell_type": "code",
      "execution_count": null,
      "metadata": {
        "id": "tWFlN_hqYfkC"
      },
      "outputs": [],
      "source": [
        "# Expectation 3: Ensuring Car1_Location_X is always greater than Car2_Location_X\n",
        "expectation_3 = gx.expectations.ExpectColumnPairValuesAToBeGreaterThanB(\n",
        "    column_A=\"Car1_Location_X\", column_B=\"Car2_Location_X\", or_equal=True\n",
        ")"
      ]
    },
    {
      "cell_type": "markdown",
      "metadata": {
        "id": "D9rzavkK8mqM"
      },
      "source": [
        "### Validate Data Against Expectation 3"
      ]
    },
    {
      "cell_type": "code",
      "execution_count": null,
      "metadata": {
        "id": "xGed5qns8om2"
      },
      "outputs": [],
      "source": [
        "validation_3 = batch.validate(expectation_3)\n",
        "print(validation_3)"
      ]
    }
  ],
  "metadata": {
    "colab": {
      "provenance": []
    },
    "kernelspec": {
      "display_name": "Python 3",
      "name": "python3"
    },
    "language_info": {
      "name": "python"
    }
  },
  "nbformat": 4,
  "nbformat_minor": 0
}
